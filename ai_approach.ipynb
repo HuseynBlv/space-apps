{
 "cells": [
  {
   "cell_type": "code",
   "execution_count": 8,
   "id": "40db4413",
   "metadata": {},
   "outputs": [],
   "source": [
    "import numpy as np\n",
    "import pandas as pd\n",
    "import os\n",
    "from obspy import read\n",
    "from scipy.fftpack import fft\n",
    "from scipy.stats import skew, kurtosis\n",
    "from sklearn.model_selection import train_test_split\n",
    "from sklearn.ensemble import RandomForestClassifier\n",
    "from sklearn.metrics import accuracy_score, precision_score, recall_score, f1_score"
   ]
  },
  {
   "cell_type": "code",
   "execution_count": 15,
   "id": "7b8a539a",
   "metadata": {},
   "outputs": [],
   "source": [
    "# Function to load a CSV file\n",
    "def load_csv_file(file_path):\n",
    "    # Read CSV, automatically parse date columns, if any\n",
    "    df = pd.read_csv(file_path)\n",
    "    \n",
    "    # Keep only numeric columns for the model (ignore timestamps or strings)\n",
    "    df_numeric = df.select_dtypes(include=[np.number])\n",
    "    \n",
    "    # Return the numeric DataFrame\n",
    "    return df_numeric"
   ]
  },
  {
   "cell_type": "code",
   "execution_count": 16,
   "id": "027b05ef",
   "metadata": {},
   "outputs": [],
   "source": [
    "# Process all CSV files in a directory\n",
    "def process_csv_directory(directory):\n",
    "    csv_list = []\n",
    "    for filename in os.listdir(directory):\n",
    "        if filename.endswith('.csv'):\n",
    "            file_path = os.path.join(directory, filename)\n",
    "            df_numeric = load_csv_file(file_path)\n",
    "            csv_list.append(df_numeric)\n",
    "    return csv_list"
   ]
  },
  {
   "cell_type": "code",
   "execution_count": 17,
   "id": "4507fb44",
   "metadata": {},
   "outputs": [],
   "source": [
    "# Convert continuous labels into binary classification (0 or 1)\n",
    "def convert_labels_to_binary(y, threshold):\n",
    "    return np.where(y > threshold, 1, 0)"
   ]
  },
  {
   "cell_type": "code",
   "execution_count": 18,
   "id": "87932694",
   "metadata": {},
   "outputs": [],
   "source": [
    "# Train a machine learning model\n",
    "def train_model(X_train, y_train):\n",
    "    model = RandomForestClassifier(n_estimators=100)\n",
    "    model.fit(X_train, y_train)\n",
    "    return model"
   ]
  },
  {
   "cell_type": "code",
   "execution_count": 19,
   "id": "ddcc67f0",
   "metadata": {},
   "outputs": [],
   "source": [
    "# Evaluate the model\n",
    "def evaluate_model(model, X_val, y_val):\n",
    "    y_pred = model.predict(X_val)\n",
    "    accuracy = accuracy_score(y_val, y_pred)\n",
    "    precision = precision_score(y_val, y_pred)\n",
    "    recall = recall_score(y_val, y_pred)\n",
    "    f1 = f1_score(y_val, y_pred)\n",
    "    print(f\"Accuracy: {accuracy}\")\n",
    "    print(f\"Precision: {precision}\")\n",
    "    print(f\"Recall: {recall}\")\n",
    "    print(f\"F1 Score: {f1}\")"
   ]
  },
  {
   "cell_type": "code",
   "execution_count": 20,
   "id": "495248ea",
   "metadata": {},
   "outputs": [],
   "source": [
    "# Main function to load, process, extract features, train, and evaluate the model\n",
    "def main():\n",
    "    # Updated CSV directory path for moon seismic data\n",
    "    csv_directory = \"space-apps/space_apps_2024_seismic_detection/data/lunar/training/data/S12_GradeA\"\n",
    "    \n",
    "    # Load and process CSV data\n",
    "    csv_data = process_csv_directory(csv_directory)\n",
    "    \n",
    "    # Convert CSV data to numpy arrays and combine\n",
    "    csv_features = [df.to_numpy() for df in csv_data]\n",
    "    X_csv = np.concatenate(csv_features, axis=0)  # Concatenate CSV features\n",
    "\n",
    "    # Assuming the last column of numeric CSVs contains continuous labels\n",
    "    X = X_csv[:, :-1]  # Features (all but last column)\n",
    "    y_continuous = X_csv[:, -1]   # Continuous labels (last column)\n",
    "\n",
    "    # Convert continuous labels to binary (or multi-class) labels\n",
    "    threshold = 0.5  # Example threshold (you can adjust based on your data)\n",
    "    y = convert_labels_to_binary(y_continuous, threshold)\n",
    "\n",
    "    # Split data into train and validation sets\n",
    "    X_train, X_val, y_train, y_val = train_test_split(X, y, test_size=0.2, random_state=42)\n",
    "\n",
    "    # Train model\n",
    "    model = train_model(X_train, y_train)\n",
    "\n",
    "    # Evaluate model\n",
    "    evaluate_model(model, X_val, y_val)"
   ]
  },
  {
   "cell_type": "code",
   "execution_count": 22,
   "id": "f99516af",
   "metadata": {},
   "outputs": [
    {
     "name": "stderr",
     "output_type": "stream",
     "text": [
      "/Users/huseynbva/anaconda3/lib/python3.10/site-packages/sklearn/metrics/_classification.py:1344: UndefinedMetricWarning: Precision is ill-defined and being set to 0.0 due to no predicted samples. Use `zero_division` parameter to control this behavior.\n",
      "  _warn_prf(average, modifier, msg_start, len(result))\n",
      "/Users/huseynbva/anaconda3/lib/python3.10/site-packages/sklearn/metrics/_classification.py:1344: UndefinedMetricWarning: Recall is ill-defined and being set to 0.0 due to no true samples. Use `zero_division` parameter to control this behavior.\n",
      "  _warn_prf(average, modifier, msg_start, len(result))\n"
     ]
    },
    {
     "name": "stdout",
     "output_type": "stream",
     "text": [
      "Accuracy: 1.0\n",
      "Precision: 0.0\n",
      "Recall: 0.0\n",
      "F1 Score: 0.0\n"
     ]
    },
    {
     "name": "stderr",
     "output_type": "stream",
     "text": [
      "/Users/huseynbva/anaconda3/lib/python3.10/site-packages/sklearn/metrics/_classification.py:1609: UndefinedMetricWarning: F-score is ill-defined and being set to 0.0 due to no true nor predicted samples. Use `zero_division` parameter to control this behavior.\n",
      "  _warn_prf(average, \"true nor predicted\", \"F-score is\", len(true_sum))\n"
     ]
    }
   ],
   "source": [
    "if __name__=='__main__':\n",
    "    main()"
   ]
  }
 ],
 "metadata": {
  "kernelspec": {
   "display_name": "Python 3 (ipykernel)",
   "language": "python",
   "name": "python3"
  },
  "language_info": {
   "codemirror_mode": {
    "name": "ipython",
    "version": 3
   },
   "file_extension": ".py",
   "mimetype": "text/x-python",
   "name": "python",
   "nbconvert_exporter": "python",
   "pygments_lexer": "ipython3",
   "version": "3.10.9"
  }
 },
 "nbformat": 4,
 "nbformat_minor": 5
}
